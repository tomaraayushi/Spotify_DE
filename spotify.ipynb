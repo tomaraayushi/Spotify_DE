{
 "cells": [
  {
   "cell_type": "markdown",
   "id": "9299ec4e",
   "metadata": {},
   "source": [
    "# Table of Contents\n",
    "\n",
    "- [ 1 - Introduction](#1)\n",
    "- [ 2 - Data Source](#2)\n",
    "- [ 3 - Exploratory Data Analysis](#3)\n",
    "- [ 4 - ETL Pipeline with AWS Glue and Terraform](#4)\n",
    "    - [ 4.1 - Landing Zone](#4-1)\n",
    "    - [ 4.2 - Transformation Zone](#4-2)\n",
    "    - [ 4.3 - Serving Zone](#4-3)"
   ]
  },
  {
   "cell_type": "markdown",
   "id": "e478ecc6",
   "metadata": {},
   "source": [
    "<a id='1'></a>\n",
    "##  1 - Introduction\n",
    "\n",
    "Built an end-to-end data pipeline to solve the challenge of fragmented music discovery and trend analysis in the rapidly evolving streaming industry. Integrated Spotify's multi-source data (new releases, album tracks, artist metadata) using medallion architecture with Apache Iceberg tables and dbt transformations to enable real-time identification of emerging music trends, artist performance patterns, and genre preferences that drive user engagement and playlist optimization strategies.\n",
    "\n"
   ]
  },
  {
   "cell_type": "code",
   "execution_count": 1,
   "id": "9a6a3997",
   "metadata": {},
   "outputs": [],
   "source": [
    "# Import libraries\n",
    "import os\n",
    "import json\n",
    "import requests\n",
    "import pandas as pd  \n",
    "\n",
    "from IPython.display import HTML\n",
    "from typing import Dict, Any, Callable\n",
    "from dotenv import load_dotenv"
   ]
  },
  {
   "cell_type": "markdown",
   "id": "bf676d00",
   "metadata": {},
   "source": [
    "<a id='2'></a>\n",
    "## 2 - Data Source\n",
    "\n",
    "The data source is Spotify API, which contains information about artists, tracks, new releases and relevant information. To get access to the API resources, you need to create a Spotify account and generate an access token, which is a string that contains the credentials and permissions that you can use to access a given resource."
   ]
  },
  {
   "cell_type": "code",
   "execution_count": 2,
   "id": "82a5fb79",
   "metadata": {},
   "outputs": [],
   "source": [
    "# Get variables cient id and client secret to get the token\n",
    "load_dotenv('./src/env', override=True)\n",
    "\n",
    "CLIENT_ID = os.getenv('CLIENT_ID')\n",
    "CLIENT_SECRET = os.getenv('CLIENT_SECRET')"
   ]
  },
  {
   "cell_type": "code",
   "execution_count": 6,
   "id": "ace699fb",
   "metadata": {},
   "outputs": [
    {
     "name": "stdout",
     "output_type": "stream",
     "text": [
      "<class 'requests.models.Response'>\n",
      "{'access_token': 'BQDdnuAI6IxvhQlw6wqViZJ0_cQgDAu4DRUwTkYn5h61KaDCSVqA_g_tgFc95VQYTHI6k-gLKeP1RuQ6O2YMMThaf-CPDQdrxK1SIZDpNBVD2RXlmRhZU5UWz_0-L2UFlzLj8I6PCU0', 'token_type': 'Bearer', 'expires_in': 3600}\n"
     ]
    }
   ],
   "source": [
    "# Get Token\n",
    "# Get Token Function\n",
    "\n",
    "def get_token(client_id: str, client_secret: str, url: str) -> Dict[Any, Any]:\n",
    "    \"\"\"Allows to perform a POST request to obtain an access token\n",
    "    \n",
    "    Args:\n",
    "        client_id(str): App client id\n",
    "        client_secret(str): App client secret\n",
    "        url(str): url to perform the post request\n",
    "        \n",
    "    Returns:\n",
    "        Dict[Any, Any]:Dictionary containing the access token\n",
    "        \n",
    "    \"\"\"\n",
    "\n",
    "    headers = {\n",
    "        \"Content-Type\": \"application/x-www-form-urlencoded\"\n",
    "    }\n",
    "\n",
    "    payload = {\n",
    "        \"grant_type\": \"client_credentials\",\n",
    "        \"client_id\": client_id,\n",
    "        \"client_secret\": client_secret\n",
    "    }\n",
    "\n",
    "    try:\n",
    "        response = requests.post(url= url, headers=headers, data=payload)\n",
    "        print(type(response))\n",
    "        response.raise_for_status()\n",
    "        response_json = json.loads(response.content)\n",
    "        \n",
    "        return response_json\n",
    "\n",
    "    except Exception as err:\n",
    "        print(f\"Error: {err}\")\n",
    "        return {}\n",
    "    \n",
    "URL = \"https://accounts.spotify.com/api/token\"\n",
    "token = get_token(CLIENT_ID, CLIENT_SECRET, URL)\n",
    "\n",
    "print(token)"
   ]
  },
  {
   "cell_type": "markdown",
   "id": "af3073f1",
   "metadata": {},
   "source": [
    "Whenever you send an API request to the spotify API, you need to include in the request the access token, as an authorization header. Function `get_auth_header` expects the access token and returns the authorization header that can be included in the API request."
   ]
  },
  {
   "cell_type": "code",
   "execution_count": 13,
   "id": "2029a525",
   "metadata": {},
   "outputs": [],
   "source": [
    "def get_auth_header(access_token: str) -> Dict[str, str]:\n",
    "    return {'Authorization': f'Bearer {access_token}'}"
   ]
  },
  {
   "cell_type": "markdown",
   "id": "a917f913",
   "metadata": {},
   "source": [
    "2.1. The first endpoint is to the `new_releases' path in the API, which gives a list of new album releases featured in Spotify"
   ]
  },
  {
   "cell_type": "code",
   "execution_count": null,
   "id": "eb7cae57",
   "metadata": {},
   "outputs": [],
   "source": [
    "def get_new_releases(url:str, access_token: str, offset: int=0, limit: int=20, next: str=\"\") -> Dict[Any, Any]:\n",
    "    \"\"\"Performs a GET request to the new release endpoint\n",
    "    \"\"\"\n",
    "\n",
    "    if next == \"\":\n",
    "        request_url = f\"{url}?offset={offset}&limit={limit}\"\n",
    "    else:\n",
    "        request_url = f\"{next}\"\n",
    "\n",
    "    headers = get_auth_header(access_token)\n",
    "\n",
    "    try:\n",
    "        response = requests.get(url= request_url, headers= headers) \n",
    "        response.raise_for_status()\n",
    "        \n",
    "        return response.json()\n",
    "    \n",
    "    except Exception as err:\n",
    "        print(f\"Error: {err}\")\n",
    "        return {}\n",
    "    \n",
    "URL = \"https://api.spotify.com/v1/browse/new-releases\"\n",
    "new_releases = get_new_releases(URL, access_token= token.get('access_token'))"
   ]
  },
  {
   "cell_type": "code",
   "execution_count": 15,
   "id": "92442dd2",
   "metadata": {},
   "outputs": [
    {
     "data": {
      "text/plain": [
       "dict_keys(['albums'])"
      ]
     },
     "execution_count": 15,
     "metadata": {},
     "output_type": "execute_result"
    }
   ],
   "source": [
    "new_releases.keys()"
   ]
  },
  {
   "cell_type": "code",
   "execution_count": 16,
   "id": "09d637f1",
   "metadata": {},
   "outputs": [
    {
     "data": {
      "text/plain": [
       "dict_keys(['href', 'items', 'limit', 'next', 'offset', 'previous', 'total'])"
      ]
     },
     "execution_count": 16,
     "metadata": {},
     "output_type": "execute_result"
    }
   ],
   "source": [
    "new_releases['albums'].keys()"
   ]
  },
  {
   "cell_type": "code",
   "execution_count": 19,
   "id": "9282a5bf",
   "metadata": {},
   "outputs": [
    {
     "data": {
      "text/plain": [
       "{'album_type': 'album',\n",
       " 'artists': [{'external_urls': {'spotify': 'https://open.spotify.com/artist/4gvjmrtzydbMpyJaXUtwvP'},\n",
       "   'href': 'https://api.spotify.com/v1/artists/4gvjmrtzydbMpyJaXUtwvP',\n",
       "   'id': '4gvjmrtzydbMpyJaXUtwvP',\n",
       "   'name': 'Addison Rae',\n",
       "   'type': 'artist',\n",
       "   'uri': 'spotify:artist:4gvjmrtzydbMpyJaXUtwvP'}],\n",
       " 'available_markets': ['AR',\n",
       "  'AU',\n",
       "  'AT',\n",
       "  'BE',\n",
       "  'BO',\n",
       "  'BR',\n",
       "  'BG',\n",
       "  'CA',\n",
       "  'CL',\n",
       "  'CO',\n",
       "  'CR',\n",
       "  'CY',\n",
       "  'CZ',\n",
       "  'DK',\n",
       "  'DO',\n",
       "  'DE',\n",
       "  'EC',\n",
       "  'EE',\n",
       "  'SV',\n",
       "  'FI',\n",
       "  'FR',\n",
       "  'GR',\n",
       "  'GT',\n",
       "  'HN',\n",
       "  'HK',\n",
       "  'HU',\n",
       "  'IS',\n",
       "  'IE',\n",
       "  'IT',\n",
       "  'LV',\n",
       "  'LT',\n",
       "  'LU',\n",
       "  'MY',\n",
       "  'MT',\n",
       "  'MX',\n",
       "  'NL',\n",
       "  'NZ',\n",
       "  'NI',\n",
       "  'NO',\n",
       "  'PA',\n",
       "  'PY',\n",
       "  'PE',\n",
       "  'PH',\n",
       "  'PL',\n",
       "  'PT',\n",
       "  'SG',\n",
       "  'SK',\n",
       "  'ES',\n",
       "  'SE',\n",
       "  'CH',\n",
       "  'TW',\n",
       "  'TR',\n",
       "  'UY',\n",
       "  'US',\n",
       "  'GB',\n",
       "  'AD',\n",
       "  'LI',\n",
       "  'MC',\n",
       "  'ID',\n",
       "  'JP',\n",
       "  'TH',\n",
       "  'VN',\n",
       "  'RO',\n",
       "  'IL',\n",
       "  'ZA',\n",
       "  'SA',\n",
       "  'AE',\n",
       "  'BH',\n",
       "  'QA',\n",
       "  'OM',\n",
       "  'KW',\n",
       "  'EG',\n",
       "  'MA',\n",
       "  'DZ',\n",
       "  'TN',\n",
       "  'LB',\n",
       "  'JO',\n",
       "  'PS',\n",
       "  'IN',\n",
       "  'BY',\n",
       "  'KZ',\n",
       "  'MD',\n",
       "  'UA',\n",
       "  'AL',\n",
       "  'BA',\n",
       "  'HR',\n",
       "  'ME',\n",
       "  'MK',\n",
       "  'RS',\n",
       "  'SI',\n",
       "  'KR',\n",
       "  'BD',\n",
       "  'PK',\n",
       "  'LK',\n",
       "  'GH',\n",
       "  'KE',\n",
       "  'NG',\n",
       "  'TZ',\n",
       "  'UG',\n",
       "  'AG',\n",
       "  'AM',\n",
       "  'BS',\n",
       "  'BB',\n",
       "  'BZ',\n",
       "  'BT',\n",
       "  'BW',\n",
       "  'BF',\n",
       "  'CV',\n",
       "  'CW',\n",
       "  'DM',\n",
       "  'FJ',\n",
       "  'GM',\n",
       "  'GE',\n",
       "  'GD',\n",
       "  'GW',\n",
       "  'GY',\n",
       "  'HT',\n",
       "  'JM',\n",
       "  'KI',\n",
       "  'LS',\n",
       "  'LR',\n",
       "  'MW',\n",
       "  'MV',\n",
       "  'ML',\n",
       "  'MH',\n",
       "  'FM',\n",
       "  'NA',\n",
       "  'NR',\n",
       "  'NE',\n",
       "  'PW',\n",
       "  'PG',\n",
       "  'PR',\n",
       "  'WS',\n",
       "  'SM',\n",
       "  'ST',\n",
       "  'SN',\n",
       "  'SC',\n",
       "  'SL',\n",
       "  'SB',\n",
       "  'KN',\n",
       "  'LC',\n",
       "  'VC',\n",
       "  'SR',\n",
       "  'TL',\n",
       "  'TO',\n",
       "  'TT',\n",
       "  'TV',\n",
       "  'VU',\n",
       "  'AZ',\n",
       "  'BN',\n",
       "  'BI',\n",
       "  'KH',\n",
       "  'CM',\n",
       "  'TD',\n",
       "  'KM',\n",
       "  'GQ',\n",
       "  'SZ',\n",
       "  'GA',\n",
       "  'GN',\n",
       "  'KG',\n",
       "  'LA',\n",
       "  'MO',\n",
       "  'MR',\n",
       "  'MN',\n",
       "  'NP',\n",
       "  'RW',\n",
       "  'TG',\n",
       "  'UZ',\n",
       "  'ZW',\n",
       "  'BJ',\n",
       "  'MG',\n",
       "  'MU',\n",
       "  'MZ',\n",
       "  'AO',\n",
       "  'CI',\n",
       "  'DJ',\n",
       "  'ZM',\n",
       "  'CD',\n",
       "  'CG',\n",
       "  'IQ',\n",
       "  'LY',\n",
       "  'TJ',\n",
       "  'VE',\n",
       "  'ET',\n",
       "  'XK'],\n",
       " 'external_urls': {'spotify': 'https://open.spotify.com/album/2ffVa2UhHUDwMHnr685zJ4'},\n",
       " 'href': 'https://api.spotify.com/v1/albums/2ffVa2UhHUDwMHnr685zJ4',\n",
       " 'id': '2ffVa2UhHUDwMHnr685zJ4',\n",
       " 'images': [{'height': 300,\n",
       "   'url': 'https://i.scdn.co/image/ab67616d00001e02ec92248aecf970a5e6eae916',\n",
       "   'width': 300},\n",
       "  {'height': 64,\n",
       "   'url': 'https://i.scdn.co/image/ab67616d00004851ec92248aecf970a5e6eae916',\n",
       "   'width': 64},\n",
       "  {'height': 640,\n",
       "   'url': 'https://i.scdn.co/image/ab67616d0000b273ec92248aecf970a5e6eae916',\n",
       "   'width': 640}],\n",
       " 'name': 'Addison',\n",
       " 'release_date': '2025-06-06',\n",
       " 'release_date_precision': 'day',\n",
       " 'total_tracks': 12,\n",
       " 'type': 'album',\n",
       " 'uri': 'spotify:album:2ffVa2UhHUDwMHnr685zJ4'}"
      ]
     },
     "execution_count": 19,
     "metadata": {},
     "output_type": "execute_result"
    }
   ],
   "source": [
    "items = new_releases['albums'].get('items')\n",
    "items[0]"
   ]
  },
  {
   "cell_type": "markdown",
   "id": "bd1b6ef3",
   "metadata": {},
   "source": [
    "2.2. The second endpoint is to `albums tracks` path in the API, which allows you to get Spotify catalog information about an album’s tracks. We will perform a GET request to test the API and we will need Spotify ID of the album to get the catalog information for that album id. The Spotify ID is the album id of the tracks which we will get in new releases."
   ]
  },
  {
   "cell_type": "markdown",
   "id": "3ad52a34",
   "metadata": {},
   "source": [
    "<a id='4'></a>\n",
    "## 4 - ETL Pipeline with AWS Glue and Terraform\n",
    "\n",
    "Now we will start creating the required resources and infrastructure for your data pipeline. We will use a medallion architecture.\n",
    "\n",
    "The pipeline will be composed by the following steps:\n",
    "- An extraction job to get the data from the two API endpoints. This data will be stored in the landing zone of your Data Lake in JSON format.\n",
    "- A transformation job that takes the JSON data extracted from the API endpoints, normalizes some nested fields, adds metadata and stores the dataset in Iceberg format.\n",
    "- The creation of some schemas in your Data Warehouse hosted in Redshift."
   ]
  }
 ],
 "metadata": {
  "kernelspec": {
   "display_name": "Python 3",
   "language": "python",
   "name": "python3"
  },
  "language_info": {
   "codemirror_mode": {
    "name": "ipython",
    "version": 3
   },
   "file_extension": ".py",
   "mimetype": "text/x-python",
   "name": "python",
   "nbconvert_exporter": "python",
   "pygments_lexer": "ipython3",
   "version": "3.12.5"
  }
 },
 "nbformat": 4,
 "nbformat_minor": 5
}
